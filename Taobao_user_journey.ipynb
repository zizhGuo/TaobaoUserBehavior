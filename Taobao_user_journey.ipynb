{
 "cells": [
  {
   "cell_type": "code",
   "execution_count": 1,
   "id": "02e56bc2",
   "metadata": {},
   "outputs": [],
   "source": [
    "import findspark\n",
    "findspark.init('/home/zizhun/spark-3.1.1-bin-hadoop2.7')\n",
    "# import pyspark\n",
    "from pyspark.sql import SparkSession\n",
    "\n",
    "spark = SparkSession.builder.appName('Taobao_cluster').getOrCreate()"
   ]
  },
  {
   "cell_type": "code",
   "execution_count": 2,
   "id": "74c94c0c",
   "metadata": {},
   "outputs": [
    {
     "name": "stdout",
     "output_type": "stream",
     "text": [
      "root\n",
      " |-- user_id: string (nullable = true)\n",
      " |-- item_id: string (nullable = true)\n",
      " |-- category_id: string (nullable = true)\n",
      " |-- behavior: string (nullable = true)\n",
      " |-- timestamps: string (nullable = true)\n",
      "\n",
      "+-------+-------+-----------+--------+----------+\n",
      "|user_id|item_id|category_id|behavior|timestamps|\n",
      "+-------+-------+-----------+--------+----------+\n",
      "|      1|2268318|    2520377|      pv|1511544070|\n",
      "|      1|2333346|    2520771|      pv|1511561733|\n",
      "|      1|2576651|     149192|      pv|1511572885|\n",
      "|      1|3830808|    4181361|      pv|1511593493|\n",
      "|      1|4365585|    2520377|      pv|1511596146|\n",
      "|      1|4606018|    2735466|      pv|1511616481|\n",
      "|      1| 230380|     411153|      pv|1511644942|\n",
      "|      1|3827899|    2920476|      pv|1511713473|\n",
      "|      1|3745169|    2891509|      pv|1511725471|\n",
      "|      1|1531036|    2920476|      pv|1511733732|\n",
      "+-------+-------+-----------+--------+----------+\n",
      "only showing top 10 rows\n",
      "\n"
     ]
    }
   ],
   "source": [
    "df = spark.read.csv('UserBehavior.csv')\n",
    "df = df.withColumnRenamed(\"_c0\",\"user_id\") \\\n",
    "        .withColumnRenamed(\"_c1\",\"item_id\") \\\n",
    "        .withColumnRenamed(\"_c2\",\"category_id\") \\\n",
    "        .withColumnRenamed(\"_c3\",\"behavior\") \\\n",
    "        .withColumnRenamed(\"_c4\",\"timestamps\")\n",
    "df.printSchema()\n",
    "df.columns\n",
    "df.show(10)"
   ]
  },
  {
   "cell_type": "code",
   "execution_count": 3,
   "id": "e5c8efb5",
   "metadata": {},
   "outputs": [],
   "source": [
    "from pyspark.sql.functions import from_unixtime\n",
    "\n",
    "df = df.withColumn('datetime', from_unixtime(df.timestamps, format='yyyy-MM-dd HH:mm:ss').alias(\"datetime\"))\n"
   ]
  },
  {
   "cell_type": "code",
   "execution_count": null,
   "id": "3fae0de0",
   "metadata": {},
   "outputs": [],
   "source": [
    "from pyspark.sql.functions import (dayofmonth, hour,\n",
    "                                  dayofyear,month, dayofmonth,\n",
    "                                  year,weekofyear,\n",
    "                                  format_number, date_format, to_date, dayofweek)\n",
    "\n",
    "df = df.withColumn('date', to_date(df.datetime)) \\\n",
    "        .withColumn('month', month(df.datetime)) \\\n",
    "        .withColumn('day', dayofmonth(df.datetime)) \\\n",
    "        .withColumn('hour', hour(df.datetime)) \\\n",
    "        .withColumn('dayofweek', dayofweek(df.datetime))\n",
    "df.show()"
   ]
  },
  {
   "cell_type": "code",
   "execution_count": 4,
   "id": "e99dcf76",
   "metadata": {},
   "outputs": [],
   "source": [
    "df = df.where((df.datetime > '2017-11-23 00:00:00') & (df.datetime < '2017-12-04 23:59:59'))"
   ]
  },
  {
   "cell_type": "code",
   "execution_count": 5,
   "id": "f8618bea",
   "metadata": {},
   "outputs": [],
   "source": [
    "df = df.limit(1000000)"
   ]
  },
  {
   "cell_type": "code",
   "execution_count": null,
   "id": "ef2029af",
   "metadata": {
    "scrolled": true
   },
   "outputs": [],
   "source": [
    "df_grouped = df.orderBy('user_id', 'item_id').groupBy('user_id', 'item_id')"
   ]
  },
  {
   "cell_type": "code",
   "execution_count": null,
   "id": "5c77e32e",
   "metadata": {},
   "outputs": [],
   "source": [
    "from pyspark.sql.functions import datediff, to_timestamp, max as sparkMax, min as sparkMin, sum as sparkSum, when\n",
    "\n",
    "df_duration = df_grouped.agg((sparkMax(to_timestamp(df.datetime).cast(\"long\")) - sparkMin(to_timestamp(df.datetime).cast(\"long\"))).alias('duration'))\n",
    "\n",
    "df_total_count = df_grouped.count().withColumnRenamed(\"count\", \"num_behaviors\")\n",
    "\n",
    "df_pv_count = df_grouped.agg(sparkSum(when(df.behavior == 'pv', 1).otherwise(0)).alias('pv_count'))\n",
    "df_fav_count = df_grouped.agg(sparkSum(when(df.behavior == 'fav', 1).otherwise(0)).alias('fav_count'))\n",
    "df_cart_count = df_grouped.agg(sparkSum(when(df.behavior == 'cart', 1).otherwise(0)).alias('cart_count'))\n",
    "df_buy_count = df_grouped.agg(sparkSum(when(df.behavior == 'buy', 1).otherwise(0)).alias('buy_count'))\n",
    "\n",
    "df_label = df_buy_count.withColumn('label', when(df_buy_count.buy_count > 0, 1).otherwise(0))\n",
    "df_label = df_label.drop(df_label.buy_count)\n"
   ]
  },
  {
   "cell_type": "code",
   "execution_count": 7,
   "id": "c9a0ba3e",
   "metadata": {},
   "outputs": [],
   "source": [
    "df.createOrReplaceTempView(\"taobao\")"
   ]
  },
  {
   "cell_type": "code",
   "execution_count": null,
   "id": "b1cb1ee9",
   "metadata": {},
   "outputs": [],
   "source": [
    "df.head()"
   ]
  },
  {
   "cell_type": "code",
   "execution_count": 8,
   "id": "721f9dfc",
   "metadata": {},
   "outputs": [
    {
     "name": "stdout",
     "output_type": "stream",
     "text": [
      "+-------+-------+--------+--------------+---+---+----+---+\n",
      "|user_id|item_id|duration|behavior_count| pv|fav|cart|buy|\n",
      "+-------+-------+--------+--------------+---+---+----+---+\n",
      "|      1|1305059|     0.0|             1|  1|  0|   0|  0|\n",
      "|      1|1323189|     0.0|             1|  1|  0|   0|  0|\n",
      "|      1|1338525|     0.0|             1|  1|  0|   0|  0|\n",
      "|      1|1340922|     0.0|             1|  1|  0|   0|  0|\n",
      "|      1|1531036|     0.0|             1|  1|  0|   0|  0|\n",
      "|      1|2028434|     0.0|             1|  1|  0|   0|  0|\n",
      "|      1|2041056|     0.0|             1|  1|  0|   0|  0|\n",
      "|      1|2087357| 29426.0|             2|  2|  0|   0|  0|\n",
      "|      1|2104483|     0.0|             1|  1|  0|   0|  0|\n",
      "|      1|2266567|     0.0|             1|  1|  0|   0|  0|\n",
      "|      1|2268318|     0.0|             1|  1|  0|   0|  0|\n",
      "|      1|2278603|     0.0|             1|  1|  0|   0|  0|\n",
      "|      1|2286574|     0.0|             1|  1|  0|   0|  0|\n",
      "|      1| 230380|     0.0|             1|  1|  0|   0|  0|\n",
      "|      1|2333346|     0.0|             1|  1|  0|   0|  0|\n",
      "|      1|2576651|     0.0|             1|  1|  0|   0|  0|\n",
      "|      1| 266784| 25123.0|             2|  2|  0|   0|  0|\n",
      "|      1| 271696|     0.0|             1|  1|  0|   0|  0|\n",
      "|      1|2734026|     0.0|             1|  1|  0|   0|  0|\n",
      "|      1|2791761|     0.0|             1|  1|  0|   0|  0|\n",
      "+-------+-------+--------+--------------+---+---+----+---+\n",
      "only showing top 20 rows\n",
      "\n"
     ]
    }
   ],
   "source": [
    "df2 = spark.sql(\"\"\"\n",
    "SELECT \n",
    "    user_id,\n",
    "    item_id,\n",
    "    MAX(timestamps)-MIN(timestamps) as duration,\n",
    "    COUNT(item_id) as behavior_count,\n",
    "    SUM(CASE WHEN behavior = 'pv' THEN 1 ELSE 0 END) as pv,\n",
    "    SUM(CASE WHEN behavior = 'fav' THEN 1 ELSE 0 END) as fav,\n",
    "    SUM(CASE WHEN behavior = 'cart' THEN 1 ELSE 0 END) as cart,\n",
    "    SUM(CASE WHEN behavior = 'buy' THEN 1 ELSE 0 END) as buy\n",
    "FROM taobao\n",
    "GROUP BY user_id, item_id\n",
    "ORDER BY user_id, item_id ASC\n",
    "\"\"\")\n",
    "df2.show()"
   ]
  },
  {
   "cell_type": "code",
   "execution_count": 9,
   "id": "3d617f9f",
   "metadata": {},
   "outputs": [],
   "source": [
    "df2.createOrReplaceTempView(\"taobao_clustering\")\n",
    "\n",
    "df3 = spark.sql(\"\"\"\n",
    "SELECT \n",
    "    *,\n",
    "    CASE WHEN buy > 0 THEN 1 ELSE 0 END as label\n",
    "FROM taobao_clustering\n",
    "\"\"\")"
   ]
  },
  {
   "cell_type": "code",
   "execution_count": null,
   "id": "2639395d",
   "metadata": {},
   "outputs": [],
   "source": [
    "df3.show()"
   ]
  },
  {
   "cell_type": "code",
   "execution_count": null,
   "id": "4001932a",
   "metadata": {
    "scrolled": false
   },
   "outputs": [],
   "source": [
    "df_duration.show()\n",
    "df_total_count.show()\n",
    "df_pv_count.show()\n",
    "df_fav_count.show()\n",
    "df_cart_count.show()\n",
    "df_buy_count.show()"
   ]
  },
  {
   "cell_type": "code",
   "execution_count": null,
   "id": "87189cf9",
   "metadata": {},
   "outputs": [],
   "source": [
    "df1 = df_duration.join(df_total_count, on=['user_id', 'item_id']) \\\n",
    ".join(df_pv_count, on=['user_id', 'item_id']) \\\n",
    ".join(df_fav_count, on=['user_id', 'item_id']) \\\n",
    ".join(df_cart_count, on=['user_id', 'item_id']) \\\n",
    ".join(df_buy_count, on=['user_id', 'item_id']).join(df_label, on=['user_id', 'item_id'])\n",
    "\n"
   ]
  },
  {
   "cell_type": "code",
   "execution_count": null,
   "id": "a0484a69",
   "metadata": {},
   "outputs": [],
   "source": [
    "# from pyspark.sql.functions import countDistinct\n",
    "# df_label.select(countDistinct(df_label.label)).show()"
   ]
  },
  {
   "cell_type": "code",
   "execution_count": 10,
   "id": "415dcba3",
   "metadata": {},
   "outputs": [],
   "source": [
    "from pyspark.ml.clustering import KMeans\n",
    "from pyspark.ml.feature import VectorAssembler"
   ]
  },
  {
   "cell_type": "code",
   "execution_count": null,
   "id": "1c8d66c5",
   "metadata": {},
   "outputs": [],
   "source": []
  },
  {
   "cell_type": "code",
   "execution_count": null,
   "id": "6a757321",
   "metadata": {},
   "outputs": [],
   "source": [
    "df1.columns"
   ]
  },
  {
   "cell_type": "code",
   "execution_count": 11,
   "id": "c1cd9d40",
   "metadata": {},
   "outputs": [],
   "source": [
    "feat_cols = [\n",
    " 'duration',\n",
    " 'behavior_count',\n",
    " 'pv',\n",
    " 'fav',\n",
    " 'cart',\n",
    " 'buy',\n",
    "    'label']"
   ]
  },
  {
   "cell_type": "code",
   "execution_count": null,
   "id": "990fbc41",
   "metadata": {},
   "outputs": [],
   "source": [
    "df1.show(100)"
   ]
  },
  {
   "cell_type": "code",
   "execution_count": null,
   "id": "9d65f3e2",
   "metadata": {},
   "outputs": [],
   "source": [
    "df4 = df3.limit(100000)"
   ]
  },
  {
   "cell_type": "code",
   "execution_count": 12,
   "id": "404a632d",
   "metadata": {},
   "outputs": [],
   "source": [
    "assembler = VectorAssembler(inputCols = feat_cols, outputCol = 'features')"
   ]
  },
  {
   "cell_type": "code",
   "execution_count": null,
   "id": "1f98e4eb",
   "metadata": {},
   "outputs": [],
   "source": [
    "df1.head()"
   ]
  },
  {
   "cell_type": "code",
   "execution_count": 13,
   "id": "393402f8",
   "metadata": {},
   "outputs": [],
   "source": [
    "final_data = assembler.transform(df3)"
   ]
  },
  {
   "cell_type": "code",
   "execution_count": null,
   "id": "95efa19c",
   "metadata": {},
   "outputs": [],
   "source": [
    "final_data.printSchema()"
   ]
  },
  {
   "cell_type": "code",
   "execution_count": null,
   "id": "3925bded",
   "metadata": {},
   "outputs": [],
   "source": [
    "final_data.show(5)"
   ]
  },
  {
   "cell_type": "code",
   "execution_count": 14,
   "id": "ec37e603",
   "metadata": {},
   "outputs": [],
   "source": [
    "from pyspark.ml.feature import StandardScaler"
   ]
  },
  {
   "cell_type": "code",
   "execution_count": 15,
   "id": "698bcb11",
   "metadata": {},
   "outputs": [],
   "source": [
    "scaler = StandardScaler(inputCol = 'features', outputCol = 'scaledFeatures')"
   ]
  },
  {
   "cell_type": "code",
   "execution_count": 16,
   "id": "3a7b8827",
   "metadata": {},
   "outputs": [],
   "source": [
    "scaler_model = scaler.fit(final_data)\n",
    "cluster_final_data = scaler_model.transform(final_data)"
   ]
  },
  {
   "cell_type": "code",
   "execution_count": null,
   "id": "68a46c1a",
   "metadata": {},
   "outputs": [],
   "source": [
    "cluster_final_data.show(10)"
   ]
  },
  {
   "cell_type": "markdown",
   "id": "e0b98a29",
   "metadata": {},
   "source": [
    "### test standard scaler targetting single column and compare results with assembling"
   ]
  },
  {
   "cell_type": "code",
   "execution_count": 17,
   "id": "48f4660d",
   "metadata": {},
   "outputs": [],
   "source": [
    "from pyspark.ml.clustering import KMeans"
   ]
  },
  {
   "cell_type": "code",
   "execution_count": 18,
   "id": "0f465117",
   "metadata": {},
   "outputs": [],
   "source": [
    "df4 = cluster_final_data.drop('user_id').drop('item_id').drop('duration').drop('behavior_count') \\\n",
    "                .drop('pv').drop('fav').drop('buy').drop('cart').drop('label').drop('features')"
   ]
  },
  {
   "cell_type": "code",
   "execution_count": 19,
   "id": "f74adda3",
   "metadata": {},
   "outputs": [],
   "source": [
    "kmeans5 = KMeans(featuresCol = 'scaledFeatures', k = 5, seed=2)\n",
    "model_k5 = kmeans5.fit(df4)"
   ]
  },
  {
   "cell_type": "code",
   "execution_count": null,
   "id": "d1c56a45",
   "metadata": {},
   "outputs": [],
   "source": [
    "# using scaledFeatures\n",
    "# featureCol = 'scaledFeatures'\n",
    "featureCol = 'features'\n",
    "\n",
    "kmeans2 = KMeans(featuresCol = 'scaledFeatures', k = 2, seed=2)\n",
    "kmeans3 = KMeans(featuresCol = 'scaledFeatures', k = 3, seed=2)\n",
    "kmeans5 = KMeans(featuresCol = 'scaledFeatures', k = 5, seed=2)\n",
    "kmeans4 = KMeans(featuresCol = 'scaledFeatures', k = 4, seed=2)\n",
    "kmeans6 = KMeans(featuresCol = 'scaledFeatures', k = 6, seed=2)\n",
    "kmeans7 = KMeans(featuresCol = 'scaledFeatures', k = 7, seed=2)\n",
    "\n",
    "\n",
    "model_k2 = kmeans2.fit(cluster_final_data)\n",
    "model_k3 = kmeans3.fit(cluster_final_data)\n",
    "model_k4 = kmeans4.fit(cluster_final_data)\n",
    "model_k5 = kmeans5.fit(cluster_final_data)\n",
    "model_k6 = kmeans6.fit(cluster_final_data)\n",
    "model_k7 = kmeans7.fit(cluster_final_data)\n"
   ]
  },
  {
   "cell_type": "code",
   "execution_count": null,
   "id": "73d60df2",
   "metadata": {},
   "outputs": [],
   "source": [
    "summary = model_k5.summary\n",
    "print(summary.k)\n",
    "print(summary.clusterSizes)\n",
    "print(summary.trainingCost)\n",
    "print(summary.k)\n",
    "print(summary.k)"
   ]
  },
  {
   "cell_type": "markdown",
   "id": "3a0e8cd7",
   "metadata": {},
   "source": [
    "### Elbow Method"
   ]
  },
  {
   "cell_type": "code",
   "execution_count": null,
   "id": "dc40adad",
   "metadata": {},
   "outputs": [],
   "source": [
    "cost = [model_k2.summary.trainingCost,\n",
    "       model_k3.summary.trainingCost,\n",
    "       model_k4.summary.trainingCost,\n",
    "       model_k5.summary.trainingCost,\n",
    "       model_k6.summary.trainingCost,\n",
    "       model_k7.summary.trainingCost,\n",
    "       ]\n",
    "\n"
   ]
  },
  {
   "cell_type": "code",
   "execution_count": null,
   "id": "424be6be",
   "metadata": {
    "scrolled": false
   },
   "outputs": [],
   "source": [
    "import matplotlib.pyplot as plt\n",
    "\n",
    "fit = plt.figure(figsize=(5,5), dpi= 100)\n",
    "plt.xlabel('number of clusters k')\n",
    "plt.ylabel('cost')\n",
    "plt.plot(range(2, 8), cost)\n",
    "plt.show()"
   ]
  },
  {
   "cell_type": "code",
   "execution_count": null,
   "id": "7a687ae9",
   "metadata": {},
   "outputs": [],
   "source": [
    "df_k2 = model_k2.transform(cluster_final_data)\n",
    "df_k3 = model_k3.transform(cluster_final_data)\n",
    "df_k4 = model_k4.transform(cluster_final_data)\n",
    "df_k5 = model_k5.transform(cluster_final_data)\n",
    "df_k6 = model_k6.transform(cluster_final_data)\n",
    "df_k7 = model_k7.transform(cluster_final_data)"
   ]
  },
  {
   "cell_type": "code",
   "execution_count": null,
   "id": "8618a468",
   "metadata": {},
   "outputs": [],
   "source": [
    "from pyspark.ml.evaluation import ClusteringEvaluator\n",
    "silhouette2 = ClusteringEvaluator().evaluate(df_k2)\n",
    "silhouette3 = ClusteringEvaluator().evaluate(df_k3)\n",
    "silhouette4 = ClusteringEvaluator().evaluate(df_k4)\n",
    "silhouette5 = ClusteringEvaluator().evaluate(df_k5)\n",
    "silhouette6 = ClusteringEvaluator().evaluate(df_k6)\n",
    "silhouette7 = ClusteringEvaluator().evaluate(df_k7)\n"
   ]
  },
  {
   "cell_type": "code",
   "execution_count": null,
   "id": "6d85620d",
   "metadata": {},
   "outputs": [],
   "source": [
    "cost = [silhouette2,\n",
    "       silhouette3,\n",
    "       silhouette4,\n",
    "       silhouette5,\n",
    "       silhouette6,\n",
    "       silhouette7\n",
    "       ]\n",
    "\n",
    "import matplotlib.pyplot as plt\n",
    "\n",
    "fit = plt.figure(figsize=(5,5), dpi= 100)\n",
    "plt.xlabel('number of clusters k')\n",
    "plt.ylabel('cost')\n",
    "plt.plot(range(2, 8), cost)\n",
    "plt.show()"
   ]
  },
  {
   "cell_type": "code",
   "execution_count": null,
   "id": "66b9a407",
   "metadata": {},
   "outputs": [],
   "source": []
  },
  {
   "cell_type": "code",
   "execution_count": null,
   "id": "4083a4e1",
   "metadata": {},
   "outputs": [],
   "source": []
  },
  {
   "cell_type": "code",
   "execution_count": null,
   "id": "0fba6ec3",
   "metadata": {
    "scrolled": true
   },
   "outputs": [],
   "source": [
    "model_k6.transform(cluster_final_data).show()"
   ]
  },
  {
   "cell_type": "code",
   "execution_count": null,
   "id": "747f8439",
   "metadata": {
    "scrolled": false
   },
   "outputs": [],
   "source": [
    "df_k2 = model_k2.transform(cluster_final_data)\n",
    "df_k3 = model_k3.transform(cluster_final_data)\n",
    "df_k4 = model_k4.transform(cluster_final_data)\n",
    "df_k5 = model_k5.transform(cluster_final_data)\n",
    "df_k6 = model_k6.transform(cluster_final_data)\n",
    "df_k7 = model_k7.transform(cluster_final_data)\n",
    "df_k8 = model_k8.transform(cluster_final_data)\n",
    "df_k9 = model_k9.transform(cluster_final_data)\n",
    "df_k10 = model_k10.transform(cluster_final_data)\n",
    "\n"
   ]
  },
  {
   "cell_type": "code",
   "execution_count": null,
   "id": "223d0adf",
   "metadata": {},
   "outputs": [],
   "source": [
    "df_k2.groupBy('prediction').count().show()\n",
    "df_k3.groupBy('prediction').count().show()\n",
    "df_k4.groupBy('prediction').count().show()\n",
    "df_k5.groupBy('prediction').count().show()\n",
    "df_k6.groupBy('prediction').count().show()\n",
    "df_k7.groupBy('prediction').count().show()\n",
    "df_k8.groupBy('prediction').count().show()\n",
    "df_k9.groupBy('prediction').count().show()\n",
    "df_k10.groupBy('prediction').count().show()"
   ]
  },
  {
   "cell_type": "code",
   "execution_count": 21,
   "id": "cbf12773",
   "metadata": {},
   "outputs": [],
   "source": [
    "df_k5 = model_k5.transform(cluster_final_data)"
   ]
  },
  {
   "cell_type": "code",
   "execution_count": 25,
   "id": "882427cf",
   "metadata": {
    "scrolled": false
   },
   "outputs": [
    {
     "name": "stdout",
     "output_type": "stream",
     "text": [
      "+-------+-------+--------+--------------+---+---+----+---+-----+--------------------+--------------------+----------+\n",
      "|user_id|item_id|duration|behavior_count| pv|fav|cart|buy|label|            features|      scaledFeatures|prediction|\n",
      "+-------+-------+--------+--------------+---+---+----+---+-----+--------------------+--------------------+----------+\n",
      "|      1|1305059|     0.0|             1|  1|  0|   0|  0|    0| (7,[1,2],[1.0,1.0])|(7,[1,2],[0.93053...|         0|\n",
      "|      1|1323189|     0.0|             1|  1|  0|   0|  0|    0| (7,[1,2],[1.0,1.0])|(7,[1,2],[0.93053...|         0|\n",
      "|      1|1338525|     0.0|             1|  1|  0|   0|  0|    0| (7,[1,2],[1.0,1.0])|(7,[1,2],[0.93053...|         0|\n",
      "|      1|1340922|     0.0|             1|  1|  0|   0|  0|    0| (7,[1,2],[1.0,1.0])|(7,[1,2],[0.93053...|         0|\n",
      "|      1|1531036|     0.0|             1|  1|  0|   0|  0|    0| (7,[1,2],[1.0,1.0])|(7,[1,2],[0.93053...|         0|\n",
      "|      1|2028434|     0.0|             1|  1|  0|   0|  0|    0| (7,[1,2],[1.0,1.0])|(7,[1,2],[0.93053...|         0|\n",
      "|      1|2041056|     0.0|             1|  1|  0|   0|  0|    0| (7,[1,2],[1.0,1.0])|(7,[1,2],[0.93053...|         0|\n",
      "|      1|2087357| 29426.0|             2|  2|  0|   0|  0|    0|(7,[0,1,2],[29426...|(7,[0,1,2],[0.344...|         0|\n",
      "|      1|2104483|     0.0|             1|  1|  0|   0|  0|    0| (7,[1,2],[1.0,1.0])|(7,[1,2],[0.93053...|         0|\n",
      "|      1|2266567|     0.0|             1|  1|  0|   0|  0|    0| (7,[1,2],[1.0,1.0])|(7,[1,2],[0.93053...|         0|\n",
      "|      1|2268318|     0.0|             1|  1|  0|   0|  0|    0| (7,[1,2],[1.0,1.0])|(7,[1,2],[0.93053...|         0|\n",
      "|      1|2278603|     0.0|             1|  1|  0|   0|  0|    0| (7,[1,2],[1.0,1.0])|(7,[1,2],[0.93053...|         0|\n",
      "|      1|2286574|     0.0|             1|  1|  0|   0|  0|    0| (7,[1,2],[1.0,1.0])|(7,[1,2],[0.93053...|         0|\n",
      "|      1| 230380|     0.0|             1|  1|  0|   0|  0|    0| (7,[1,2],[1.0,1.0])|(7,[1,2],[0.93053...|         0|\n",
      "|      1|2333346|     0.0|             1|  1|  0|   0|  0|    0| (7,[1,2],[1.0,1.0])|(7,[1,2],[0.93053...|         0|\n",
      "|      1|2576651|     0.0|             1|  1|  0|   0|  0|    0| (7,[1,2],[1.0,1.0])|(7,[1,2],[0.93053...|         0|\n",
      "|      1| 266784| 25123.0|             2|  2|  0|   0|  0|    0|(7,[0,1,2],[25123...|(7,[0,1,2],[0.294...|         0|\n",
      "|      1| 271696|     0.0|             1|  1|  0|   0|  0|    0| (7,[1,2],[1.0,1.0])|(7,[1,2],[0.93053...|         0|\n",
      "|      1|2734026|     0.0|             1|  1|  0|   0|  0|    0| (7,[1,2],[1.0,1.0])|(7,[1,2],[0.93053...|         0|\n",
      "|      1|2791761|     0.0|             1|  1|  0|   0|  0|    0| (7,[1,2],[1.0,1.0])|(7,[1,2],[0.93053...|         0|\n",
      "+-------+-------+--------+--------------+---+---+----+---+-----+--------------------+--------------------+----------+\n",
      "only showing top 20 rows\n",
      "\n"
     ]
    }
   ],
   "source": [
    "df_k5.show()"
   ]
  },
  {
   "cell_type": "code",
   "execution_count": 26,
   "id": "11d4cbaf",
   "metadata": {},
   "outputs": [
    {
     "name": "stdout",
     "output_type": "stream",
     "text": [
      "+-------+-----------------+------------------+------------------+-------------------+-------------------+--------------------+--------------------+------------------+\n",
      "|summary|         duration|    behavior_count|                pv|                fav|               cart|                 buy|               label|        prediction|\n",
      "+-------+-----------------+------------------+------------------+-------------------+-------------------+--------------------+--------------------+------------------+\n",
      "|  count|           756408|            756408|            756408|             756408|             756408|              756408|              756408|            756408|\n",
      "|   mean|21433.50689707142|1.3220378420111898| 1.184676788188385| 0.0371333989064103|0.07331228649088851|0.026915368425505813|0.025566889826654397|0.4321940011210881|\n",
      "| stddev|85385.05928533341|1.0746465690895712|0.9953649718484974|0.19056521625685005| 0.2690200842701817| 0.17201339406933566| 0.15783933890990312|1.1010077907100033|\n",
      "|    min|              0.0|                 1|                 0|                  0|                  0|                   0|                   0|                 0|\n",
      "|    max|         787426.0|               153|               153|                  7|                  6|                  11|                   1|                 4|\n",
      "+-------+-----------------+------------------+------------------+-------------------+-------------------+--------------------+--------------------+------------------+\n",
      "\n"
     ]
    }
   ],
   "source": [
    "df_k5.drop('user_id').drop('item_id').describe().show()"
   ]
  },
  {
   "cell_type": "code",
   "execution_count": 22,
   "id": "b7feee96",
   "metadata": {},
   "outputs": [],
   "source": [
    "df_k5.createOrReplaceTempView(\"purchase_clustered\")"
   ]
  },
  {
   "cell_type": "code",
   "execution_count": 29,
   "id": "d7c60c70",
   "metadata": {},
   "outputs": [
    {
     "name": "stdout",
     "output_type": "stream",
     "text": [
      "+-------+----+--------+------------+-----------------+------+-------+--------+-------+---------+\n",
      "|cluster|user|behavior|avg_duration|avg_num_behaviors|avg_pv|avg_fav|avg_cart|avg_buy|avg_label|\n",
      "+-------+----+--------+------------+-----------------+------+-------+--------+-------+---------+\n",
      "|      0|9701|  639437|        0.91|             1.12|  1.12|    0.0|     0.0|    0.0|      0.0|\n",
      "|      1|6673|   19246|       29.08|             3.08|  1.76|   0.07|     0.2|   1.05|      1.0|\n",
      "|      2|6688|   28996|       93.98|             3.97|   3.7|   0.05|    0.22|    0.0|      0.0|\n",
      "|      3|3700|   25239|       10.52|             1.62|  0.58|   1.01|    0.03|    0.0|      0.0|\n",
      "|      4|6853|   43490|        8.49|             1.61|  0.59|    0.0|    1.02|    0.0|      0.0|\n",
      "+-------+----+--------+------------+-----------------+------+-------+--------+-------+---------+\n",
      "\n"
     ]
    }
   ],
   "source": [
    "df_k5_statistics = spark.sql(\"\"\"\n",
    "SELECT prediction AS cluster,\n",
    "        COUNT(DISTINCT user_id) AS user,\n",
    "        COUNT(item_id) AS behavior,\n",
    "        ROUND(AVG(duration)/3600,2) AS avg_duration,\n",
    "        ROUND(AVG(behavior_count),2) as avg_num_behaviors,\n",
    "        ROUND(AVG(pv),2) as avg_pv,\n",
    "        ROUND(AVG(fav),2) as avg_fav,\n",
    "        ROUND(AVG(cart),2) as avg_cart,\n",
    "        ROUND(AVG(buy),2) as avg_buy,\n",
    "        ROUND(AVG(label),2) as avg_label\n",
    "FROM purchase_clustered\n",
    "GROUP BY prediction\n",
    "ORDER BY prediction asc\n",
    "\"\"\")\n",
    "df_k5_statistics.show()"
   ]
  },
  {
   "cell_type": "code",
   "execution_count": 30,
   "id": "405105f6",
   "metadata": {},
   "outputs": [],
   "source": [
    "import pandas as pd\n",
    "df_k5_pandas = df_k5_statistics.toPandas()"
   ]
  },
  {
   "cell_type": "code",
   "execution_count": 31,
   "id": "d833ea45",
   "metadata": {
    "scrolled": true
   },
   "outputs": [
    {
     "name": "stdout",
     "output_type": "stream",
     "text": [
      "   cluster  user  behavior  avg_duration  avg_num_behaviors  avg_pv  avg_fav  \\\n",
      "0        0  9701    639437          0.91               1.12    1.12     0.00   \n",
      "1        1  6673     19246         29.08               3.08    1.76     0.07   \n",
      "2        2  6688     28996         93.98               3.97    3.70     0.05   \n",
      "3        3  3700     25239         10.52               1.62    0.58     1.01   \n",
      "4        4  6853     43490          8.49               1.61    0.59     0.00   \n",
      "\n",
      "   avg_cart  avg_buy  avg_label  \n",
      "0      0.00     0.00        0.0  \n",
      "1      0.20     1.05        1.0  \n",
      "2      0.22     0.00        0.0  \n",
      "3      0.03     0.00        0.0  \n",
      "4      1.02     0.00        0.0  \n"
     ]
    }
   ],
   "source": [
    "print(df_k5_pandas)"
   ]
  },
  {
   "cell_type": "code",
   "execution_count": 38,
   "id": "5683084e",
   "metadata": {},
   "outputs": [],
   "source": [
    "df_k5 = df_k5_pandas.drop(columns = ['cluster'])\n",
    "columns = df_k5.columns"
   ]
  },
  {
   "cell_type": "code",
   "execution_count": 51,
   "id": "9675962d",
   "metadata": {},
   "outputs": [
    {
     "name": "stdout",
     "output_type": "stream",
     "text": [
      "   user  behavior  avg_duration  avg_num_behaviors  avg_pv  avg_fav  avg_cart  \\\n",
      "0  9701    639437          0.91               1.12    1.12     0.00      0.00   \n",
      "1  6673     19246         29.08               3.08    1.76     0.07      0.20   \n",
      "2  6688     28996         93.98               3.97    3.70     0.05      0.22   \n",
      "3  3700     25239         10.52               1.62    0.58     1.01      0.03   \n",
      "4  6853     43490          8.49               1.61    0.59     0.00      1.02   \n",
      "\n",
      "   avg_buy  avg_label  \n",
      "0     0.00        0.0  \n",
      "1     1.05        1.0  \n",
      "2     0.00        0.0  \n",
      "3     0.00        0.0  \n",
      "4     0.00        0.0  \n",
      "Index(['user', 'behavior', 'avg_duration', 'avg_num_behaviors', 'avg_pv',\n",
      "       'avg_fav', 'avg_cart', 'avg_buy', 'avg_label'],\n",
      "      dtype='object')\n"
     ]
    }
   ],
   "source": [
    "print(df_k5)\n",
    "print(columns)"
   ]
  },
  {
   "cell_type": "code",
   "execution_count": 80,
   "id": "fadb7e5b",
   "metadata": {},
   "outputs": [],
   "source": [
    "import matplotlib.pyplot as plt\n",
    "import numpy as np\n",
    "\n",
    "def heatmap(mean_matrix, columns, n = 5):\n",
    "    fig, ax = plt.subplots()\n",
    "    fig.set_size_inches(14, 7)\n",
    "    fit = plt.figure(figsize=(10,10), dpi= 300)\n",
    "    im = ax.imshow(mean_matrix)\n",
    "    ax.set_xticks(np.arange(len(columns)))\n",
    "    ax.set_yticks(np.arange(n))\n",
    "    # ... and label them with the respective list entries\n",
    "    ax.set_xticklabels(columns)\n",
    "    _ = []\n",
    "    for i in range(n):\n",
    "        _.append('cluster'+str(i+1))\n",
    "    ax.set_yticklabels(_)\n",
    "\n",
    "    plt.setp(ax.get_xticklabels(), rotation=45, ha=\"right\",\n",
    "         rotation_mode=\"anchor\")\n",
    "    for i in range(n):\n",
    "        for j in range(len(columns)):\n",
    "            text = ax.text(j, i, mean_matrix[i, j],\n",
    "                        ha=\"center\", va=\"center\", color=\"w\")\n",
    "    ax.set_title(\"Heatmap of the clustering on standardized scaled features\")\n",
    "    fig.tight_layout()\n",
    "    plt.show()"
   ]
  },
  {
   "cell_type": "code",
   "execution_count": 81,
   "id": "32f81fdd",
   "metadata": {},
   "outputs": [
    {
     "name": "stdout",
     "output_type": "stream",
     "text": [
      "[[ 1.57  2.   -0.81 -1.08 -0.37 -0.58 -0.79 -0.5  -0.5 ]\n",
      " [-0.03 -0.54  0.01  0.75  0.18 -0.4  -0.25  2.    2.  ]\n",
      " [-0.02 -0.5   1.92  1.58  1.86 -0.45 -0.2  -0.5  -0.5 ]\n",
      " [-1.59 -0.52 -0.53 -0.62 -0.84  2.   -0.71 -0.5  -0.5 ]\n",
      " [ 0.07 -0.44 -0.59 -0.63 -0.83 -0.58  1.94 -0.5  -0.5 ]]\n"
     ]
    }
   ],
   "source": [
    "from sklearn.preprocessing import StandardScaler\n",
    "scaler = StandardScaler()\n",
    "scaler.fit(df_k5)\n",
    "print(np.around(scaler.transform(df_k5), 2))"
   ]
  },
  {
   "cell_type": "code",
   "execution_count": 82,
   "id": "2522a888",
   "metadata": {},
   "outputs": [
    {
     "data": {
      "image/png": "[encoded data removed]",
      "text/plain": [
       "<Figure size 1008x504 with 1 Axes>"
      ]
     },
     "metadata": {
      "needs_background": "light"
     },
     "output_type": "display_data"
    },
    {
     "data": {
      "text/plain": [
       "<Figure size 3000x3000 with 0 Axes>"
      ]
     },
     "metadata": {},
     "output_type": "display_data"
    }
   ],
   "source": [
    "heatmap(np.around(scaler.transform(df_k5), 2), columns, n = 5)"
   ]
  },
  {
   "cell_type": "code",
   "execution_count": 92,
   "id": "1b00a5df",
   "metadata": {},
   "outputs": [
    {
     "data": {
      "image/png": "[encoded data removed]",
      "text/plain": [
       "<Figure size 720x432 with 1 Axes>"
      ]
     },
     "metadata": {},
     "output_type": "display_data"
    }
   ],
   "source": [
    "data = df_k5['user']\n",
    "\n",
    "pie, ax = plt.subplots(figsize=[10,6])\n",
    "labels = ['Hibernate','Active purchasing', 'Active Viewing', 'Collectors', 'Hesitator']\n",
    "plt.pie(x=data, autopct=\"%.1f%%\", explode=[0.05]*5, labels=labels, pctdistance=0.5, colors = ['#969696','#54bc4b', '#007bff', '#f1b0b7', '#ffc107'])\n",
    "plt.title(\"User Journey Behavior Type: Users Count\", fontsize=14);"
   ]
  },
  {
   "cell_type": "code",
   "execution_count": 57,
   "id": "1412a2c5",
   "metadata": {
    "scrolled": true
   },
   "outputs": [
    {
     "name": "stdout",
     "output_type": "stream",
     "text": [
      "   user  behavior  avg_duration  avg_num_behaviors  avg_pv  avg_fav  avg_cart  \\\n",
      "0  9701    639437          0.91               1.12    1.12     0.00      0.00   \n",
      "1  6673     19246         29.08               3.08    1.76     0.07      0.20   \n",
      "2  6688     28996         93.98               3.97    3.70     0.05      0.22   \n",
      "3  3700     25239         10.52               1.62    0.58     1.01      0.03   \n",
      "4  6853     43490          8.49               1.61    0.59     0.00      1.02   \n",
      "\n",
      "   avg_buy  avg_label  \n",
      "0     0.00        0.0  \n",
      "1     1.05        1.0  \n",
      "2     0.00        0.0  \n",
      "3     0.00        0.0  \n",
      "4     0.00        0.0  \n"
     ]
    }
   ],
   "source": [
    "print(df_k5)"
   ]
  },
  {
   "cell_type": "code",
   "execution_count": 35,
   "id": "58ae9ebc",
   "metadata": {
    "scrolled": true
   },
   "outputs": [
    {
     "name": "stdout",
     "output_type": "stream",
     "text": [
      "0    0\n",
      "1    1\n",
      "2    2\n",
      "3    3\n",
      "4    4\n",
      "Name: cluster, dtype: int32\n"
     ]
    }
   ],
   "source": [
    "print(df_k5_pandas['cluster'])"
   ]
  },
  {
   "cell_type": "code",
   "execution_count": 39,
   "id": "14183011",
   "metadata": {},
   "outputs": [
    {
     "name": "stdout",
     "output_type": "stream",
     "text": [
      "Index(['user', 'behavior', 'avg_duration', 'avg_num_behaviors', 'avg_pv',\n",
      "       'avg_fav', 'avg_cart', 'avg_buy', 'avg_label'],\n",
      "      dtype='object')\n"
     ]
    }
   ],
   "source": [
    "print(columns)"
   ]
  },
  {
   "cell_type": "code",
   "execution_count": null,
   "id": "2aa2fcad",
   "metadata": {},
   "outputs": [],
   "source": []
  }
 ],
 "metadata": {
  "kernelspec": {
   "display_name": "Python 3",
   "language": "python",
   "name": "python3"
  },
  "language_info": {
   "codemirror_mode": {
    "name": "ipython",
    "version": 3
   },
   "file_extension": ".py",
   "mimetype": "text/x-python",
   "name": "python",
   "nbconvert_exporter": "python",
   "pygments_lexer": "ipython3",
   "version": "3.8.5"
  }
 },
 "nbformat": 4,
 "nbformat_minor": 5
}
